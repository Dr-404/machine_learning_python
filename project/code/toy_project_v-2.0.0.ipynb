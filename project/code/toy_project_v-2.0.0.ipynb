{
 "cells": [
  {
   "cell_type": "code",
   "execution_count": 1,
   "id": "efca30b3",
   "metadata": {},
   "outputs": [
    {
     "data": {
      "text/plain": [
       "'\\nModule   :   Toy Problem\\nVersion  :   2.0\\nAuthor   :   Htun Aung Kyaw\\nDate     :   Fri May 26 12:54:25 AM +0630 2023\\n\\n'"
      ]
     },
     "execution_count": 1,
     "metadata": {},
     "output_type": "execute_result"
    }
   ],
   "source": [
    "#!/usr/env/python python3\n",
    "\"\"\"\n",
    "Module   :   Toy Problem\n",
    "Version  :   2.0\n",
    "Author   :   Htun Aung Kyaw\n",
    "Date     :   Fri May 26 12:54:25 AM +0630 2023\n",
    "\n",
    "\"\"\""
   ]
  },
  {
   "cell_type": "markdown",
   "id": "efe81036",
   "metadata": {},
   "source": [
    "# Improting Modules"
   ]
  },
  {
   "cell_type": "code",
   "execution_count": 2,
   "id": "83f43901",
   "metadata": {},
   "outputs": [],
   "source": [
    "import numpy as np\n",
    "from sklearn.cluster import KMeans\n",
    "import matplotlib.pyplot as plt\n",
    "from matplotlib.colors import ListedColormap\n",
    "from sklearn.preprocessing import StandardScaler\n",
    "from sklearn.metrics import pairwise_distances\n",
    "\n"
   ]
  },
  {
   "cell_type": "markdown",
   "id": "70659edc",
   "metadata": {},
   "source": [
    "# Defining Points"
   ]
  },
  {
   "cell_type": "code",
   "execution_count": 3,
   "id": "2e0a2d41",
   "metadata": {},
   "outputs": [],
   "source": [
    "\n",
    "points = np.array([\n",
    "    [2,10],\n",
    "    [2,5],\n",
    "    [8,4],\n",
    "    [5,8],\n",
    "    [7,5],\n",
    "    [6,4],\n",
    "    [1,2],\n",
    "    [4,9]\n",
    "])\n",
    "\n",
    "centroids = np.array([\n",
    "    [2,10],\n",
    "    [5,8],\n",
    "    [1,2]\n",
    "])\n",
    "\n",
    "# centroids_test = np.array([\n",
    "#     points[0],\n",
    "#     points[3],\n",
    "#     points[6]\n",
    "# ])\n",
    "# centroids_test\n",
    "\n",
    "\n"
   ]
  },
  {
   "cell_type": "markdown",
   "id": "c7ce82ae",
   "metadata": {},
   "source": [
    "# Visualization the point and centroid"
   ]
  },
  {
   "cell_type": "code",
   "execution_count": 4,
   "id": "f97a3555",
   "metadata": {},
   "outputs": [
    {
     "data": {
      "text/plain": [
       "Text(0.5, 1.0, 'Points Before Clustering')"
      ]
     },
     "execution_count": 4,
     "metadata": {},
     "output_type": "execute_result"
    },
    {
     "data": {
      "image/png": "[encoded data removed]",
      "text/plain": [
       "<Figure size 1200x500 with 1 Axes>"
      ]
     },
     "metadata": {},
     "output_type": "display_data"
    }
   ],
   "source": [
    "plt.figure(figsize=(12,5))\n",
    "plt.subplot(1, 2, 1)\n",
    "plt.scatter(points[:, 0], points[:, 1])\n",
    "plt.scatter(centroids[:,0], centroids[:, 1], marker='*', color='red',label='Centroids',s=300)\n",
    "\n",
    "# Labelling\n",
    "plt.xlabel('X')\n",
    "plt.ylabel('Y')\n",
    "plt.title('Points Before Clustering')"
   ]
  },
  {
   "cell_type": "markdown",
   "id": "20dfadd4",
   "metadata": {},
   "source": [
    "# Data Preprocessing"
   ]
  },
  {
   "cell_type": "code",
   "execution_count": 5,
   "id": "7d865954",
   "metadata": {},
   "outputs": [
    {
     "data": {
      "text/plain": [
       "(array([[-0.99179193,  1.57500407],\n",
       "        [ 0.26099788,  0.81136573],\n",
       "        [-1.40938853, -1.47954928]]),\n",
       " array([[-0.99179193,  1.57500407],\n",
       "        [-0.99179193, -0.33409177],\n",
       "        [ 1.51378768, -0.71591094],\n",
       "        [ 0.26099788,  0.81136573],\n",
       "        [ 1.09619108, -0.33409177],\n",
       "        [ 0.67859448, -0.71591094],\n",
       "        [-1.40938853, -1.47954928],\n",
       "        [-0.15659873,  1.1931849 ]]))"
      ]
     },
     "execution_count": 5,
     "metadata": {},
     "output_type": "execute_result"
    }
   ],
   "source": [
    "# Create an instance of StandardScaler\n",
    "scaler = StandardScaler()\n",
    "\n",
    "# Preprocess the data by scaling\n",
    "scaled_points = scaler.fit_transform(points)\n",
    "\n",
    "# Use given Initial centroid points from scaled point\n",
    "scaled_centroids = np.array([\n",
    "    scaled_points[0],\n",
    "    scaled_points[3],\n",
    "    scaled_points[6]\n",
    "])\n",
    "\n",
    "scaled_centroids,scaled_points\n",
    "\n"
   ]
  },
  {
   "cell_type": "markdown",
   "id": "f26b2aef",
   "metadata": {},
   "source": [
    "# Performing Clustering with K-Mean Using `max_iter` and `tolerance` as stopping cirteria"
   ]
  },
  {
   "cell_type": "markdown",
   "id": "1f1d68a4",
   "metadata": {},
   "source": [
    "## Defining Function to find optimal iteration using `tolerance` and `max_iter`"
   ]
  },
  {
   "cell_type": "code",
   "execution_count": 6,
   "id": "38dc581d",
   "metadata": {},
   "outputs": [],
   "source": [
    "# Some part of the code are reference form chat GPT \n",
    "def kmeans_optimal_iteration(scaled_points, n_clusters, tol, max_iterations):\n",
    "    # Initialize K-Mean\n",
    "    kmeans = KMeans(n_clusters=n_clusters,n_init=1, init=scaled_centroids, tol=tol, max_iter=max_iterations)\n",
    "    kmeans.fit(scaled_points)\n",
    "    # Get the final cluster assignments and centroids\n",
    "    cluster_assignments = kmeans.labels_\n",
    "    centroids = kmeans.cluster_centers_\n",
    "    # Check convergence and print the result (OpenAI, 2023)\n",
    "    distances = np.inf  # Initialize distances with a large value\n",
    "    iteration = 0\n",
    "    while np.max(distances) > tol and iteration < max_iterations:\n",
    "        old_centroids = centroids  # Update old centroids\n",
    "        # Perform one iteration of K-means\n",
    "        kmeans.fit(scaled_points)\n",
    "        # Get the updated cluster assignments and centroids\n",
    "        cluster_assignments = kmeans.labels_\n",
    "        centroids = kmeans.cluster_centers_\n",
    "        # Calculate the distances between the old and new centroids\n",
    "        distances = np.linalg.norm(centroids - old_centroids, axis=1)\n",
    "\n",
    "        iteration += 1\n",
    "\n",
    "    # Check convergence and print the result\n",
    "    if np.max(distances) < tol:\n",
    "        print(f\"Convergence reached at tolerance level {tol} in iteration {iteration}\")\n",
    "    else:\n",
    "        print(\"Convergence not reached within the specified tolerance level.\")\n",
    "\n",
    "    # Print the final cluster assignments\n",
    "    #print(\"Final Cluster Assignments:\")\n",
    "    #for point, cluster in zip(scaler.inverse_transform(points), cluster_assignments):\n",
    "        #print(f\"Point {point}: Cluster {cluster + 1}\")\n",
    "\n",
    "    # Print the final centroids\n",
    "    print(\"Final Centroids:\")\n",
    "    for i, centroid in enumerate(scaler.inverse_transform(centroids)):\n",
    "        print(f\"Cluster {i + 1} Centroid: {centroid}\")\n",
    "\n",
    "    # Plot the clusters\n",
    "    normal_points = scaler.inverse_transform(scaled_points)\n",
    "    normal_centroids = scaler.inverse_transform(centroids)\n",
    "\n",
    "    plt.scatter(normal_points[:, 0], normal_points[:, 1], c=cluster_assignments, cmap='viridis', label='points')\n",
    "    plt.scatter(normal_centroids[:, 0], normal_centroids[:, 1], color='red', marker='*', s=200)\n",
    "    plt.title(\"Toy problem K-Means clustering with optimal iteration\")\n",
    "    plt.xlabel(\"X Coordinate\")\n",
    "    plt.ylabel(\"Y Coordinate\")\n",
    "    plt.show()\n",
    "\n",
    "\n",
    "\n",
    "\n"
   ]
  },
  {
   "cell_type": "markdown",
   "id": "e477086d",
   "metadata": {},
   "source": [
    "# Setting variable for `kmeans_optimal_iteration` function"
   ]
  },
  {
   "cell_type": "code",
   "execution_count": 7,
   "id": "6a55ff18",
   "metadata": {
    "scrolled": true
   },
   "outputs": [],
   "source": [
    "# Setting Variable\n",
    "tolerance = 0.0001 # Most use tolearnce level  (OpenAI, n.d.)\n",
    "max_iterations = 100\n",
    "n_clusters = 3\n"
   ]
  },
  {
   "cell_type": "markdown",
   "id": "3abcac22",
   "metadata": {},
   "source": [
    "# Performing Clustering with optimal iteration"
   ]
  },
  {
   "cell_type": "code",
   "execution_count": 8,
   "id": "9978ac9d",
   "metadata": {},
   "outputs": [
    {
     "name": "stdout",
     "output_type": "stream",
     "text": [
      "Convergence reached at tolerance level 0.0001 in iteration 1\n",
      "Final Centroids:\n",
      "Cluster 1 Centroid: [3.66666667 9.        ]\n",
      "Cluster 2 Centroid: [7.         4.33333333]\n",
      "Cluster 3 Centroid: [1.5 3.5]\n"
     ]
    },
    {
     "data": {
      "image/png": "[encoded data removed]",
      "text/plain": [
       "<Figure size 640x480 with 1 Axes>"
      ]
     },
     "metadata": {},
     "output_type": "display_data"
    }
   ],
   "source": [
    "# Calling Function\n",
    "kmeans_optimal_iteration(scaled_points, n_clusters, tolerance, max_iterations)\n"
   ]
  },
  {
   "cell_type": "markdown",
   "id": "1a451867",
   "metadata": {},
   "source": [
    "# Visualize with different iteratinon"
   ]
  },
  {
   "cell_type": "code",
   "execution_count": 9,
   "id": "2ee3d6a2",
   "metadata": {},
   "outputs": [
    {
     "name": "stdout",
     "output_type": "stream",
     "text": [
      "Iteration 1 Centroids:\n",
      "[[-0.2958   1.19318]\n",
      " [ 1.09619 -0.58864]\n",
      " [-1.20059 -0.90682]]\n",
      "Iteration 2 Centroids:\n",
      "[[-0.2958   1.19318]\n",
      " [ 1.09619 -0.58864]\n",
      " [-1.20059 -0.90682]]\n",
      "Iteration 3 Centroids:\n",
      "[[-0.2958   1.19318]\n",
      " [ 1.09619 -0.58864]\n",
      " [-1.20059 -0.90682]]\n",
      "Iteration 4 Centroids:\n",
      "[[-0.2958   1.19318]\n",
      " [ 1.09619 -0.58864]\n",
      " [-1.20059 -0.90682]]\n",
      "Iteration 5 Centroids:\n",
      "[[-0.2958   1.19318]\n",
      " [ 1.09619 -0.58864]\n",
      " [-1.20059 -0.90682]]\n",
      "Iteration 6 Centroids:\n",
      "[[-0.2958   1.19318]\n",
      " [ 1.09619 -0.58864]\n",
      " [-1.20059 -0.90682]]\n"
     ]
    },
    {
     "data": {
      "image/png": "[encoded data removed]",
      "text/plain": [
       "<Figure size 1000x600 with 6 Axes>"
      ]
     },
     "metadata": {},
     "output_type": "display_data"
    }
   ],
   "source": [
    "max_iterations = 6\n",
    "num_rows = 2\n",
    "num_cols = 3\n",
    "# Create an instance of KMeans\n",
    "kmeans = KMeans(n_clusters=3, init=scaled_centroids,n_init=1, max_iter=max_iterations,tol=tolerance)\n",
    "\n",
    "# Perform clustering\n",
    "fig, axes = plt.subplots(num_rows, num_cols, figsize=(10, 6))\n",
    "\n",
    "for i in range(max_iterations):\n",
    "    # Fit the model for one iteration\n",
    "    kmeans.fit(scaled_points)\n",
    "\n",
    "    # Get cluster assignments and updated centroids\n",
    "    cluster_assignments = kmeans.labels_\n",
    "    new_centroids = kmeans.cluster_centers_\n",
    "    #new_centroids = scaler.inverse_transform(kmeans.cluster_centers_)\n",
    "\n",
    "       \n",
    "\n",
    "\n",
    "    # Print centroid points\n",
    "    print(f\"Iteration {i + 1} Centroids:\")\n",
    "    print(np.round(new_centroids,decimals=5))\n",
    "\n",
    "    # Plot the points with different colors for each cluster\n",
    "    row_index = i // num_cols\n",
    "    col_index = i % num_cols\n",
    "    ax = axes[row_index, col_index]\n",
    "    ax.clear()\n",
    "    for cluster in range(kmeans.n_clusters):\n",
    "        cluster_points = scaled_points[cluster_assignments == cluster]\n",
    "        ax.scatter(cluster_points[:, 0], cluster_points[:, 1], label=f'Cluster {cluster + 1}')\n",
    "    ax.scatter(new_centroids[:, 0], new_centroids[:, 1], color='black', marker='x', label='Centroids')\n",
    "    ax.set_title(f\"Iteration {i + 1}\")\n",
    "    #ax.legend()\n",
    "\n",
    "# Remove empty subplots if the number of iterations is not a perfect square\n",
    "if max_iterations % num_rows != 0:\n",
    "    for j in range(max_iterations % num_rows, num_rows):\n",
    "        fig.delaxes(axes[j, -1])\n",
    "\n",
    "plt.tight_layout()\n",
    "plt.show()\n"
   ]
  },
  {
   "cell_type": "code",
   "execution_count": null,
   "id": "bc34b4f0",
   "metadata": {},
   "outputs": [],
   "source": []
  },
  {
   "cell_type": "code",
   "execution_count": null,
   "id": "eee810ac",
   "metadata": {},
   "outputs": [],
   "source": []
  },
  {
   "cell_type": "markdown",
   "id": "5f615918",
   "metadata": {},
   "source": [
    "# Answer the question\n",
    "\n",
    "#### Q-1   How many iterations are needed to complete the clustering task?\n",
    "- Only 1 iteration need to complete the clustering task\n",
    "\n",
    "#### Q-2  What is your team’s strategy to stop the iterations?\n",
    "\n",
    "1. Setting Maximun iteration\n",
    "- Set a maximum number of iterations and terminate the algorithm if it reaches that limit. This strategy ensures that the algorithm stops after a fixed number of iterations, regardless of the convergence state\n",
    "- use `max_iter` parameterin skearn.KMeans Library\n",
    "\n",
    "2. Setting tolerance level\n",
    "- In K-Means Clustering, Tolerance refer to the threshold value use to determine covergence. It is measure of how much change in centroids is consider to declear convergence and stop iteration process\n",
    "\n",
    "\n",
    "\n",
    "#### Q-3 What do the clustering results look like?\n",
    "- The final point of centroids after 2 iteration (optimal iteration)\n",
    "-Final Centroids:\n",
    "    - Cluster 1 Centroid: [7.         4.33333333]\n",
    "    - Cluster 2 Centroid: [3.66666667 9.        ]\n",
    "    - Cluster 3 Centroid: [1.5 3.5]\n",
    " - The plot for final clustering Result\n",
    "     - ![final_result](https://github.com/Dr-404/machine_learning_python/blob/main/project/photos/toy_result_optimal_iteration.png?raw=true)\n",
    " \n"
   ]
  },
  {
   "cell_type": "code",
   "execution_count": null,
   "id": "f44e9f09",
   "metadata": {},
   "outputs": [],
   "source": []
  },
  {
   "cell_type": "markdown",
   "id": "f6c23629",
   "metadata": {},
   "source": [
    "# Reference\n",
    "- OpenAI. (n.d.). scikit-learn: Machine Learning in Python - K-means. Retrieved from https://scikit-learn.org/stable/modules/generated/sklearn.cluster.KMeans.html\n",
    "- OpenAI. (2023). ChatGPT (Version 3.5) [Software]. Retrieved from https://openai.com\n",
    "\n"
   ]
  },
  {
   "cell_type": "code",
   "execution_count": null,
   "id": "d19f6d97",
   "metadata": {},
   "outputs": [],
   "source": []
  },
  {
   "cell_type": "code",
   "execution_count": null,
   "id": "25fdb72c",
   "metadata": {},
   "outputs": [],
   "source": []
  },
  {
   "cell_type": "code",
   "execution_count": null,
   "id": "049da7bb",
   "metadata": {},
   "outputs": [],
   "source": []
  },
  {
   "cell_type": "code",
   "execution_count": null,
   "id": "8b059d2f",
   "metadata": {},
   "outputs": [],
   "source": []
  },
  {
   "cell_type": "code",
   "execution_count": null,
   "id": "1bca339e",
   "metadata": {},
   "outputs": [],
   "source": []
  },
  {
   "cell_type": "code",
   "execution_count": null,
   "id": "0c18f817",
   "metadata": {},
   "outputs": [],
   "source": []
  }
 ],
 "metadata": {
  "kernelspec": {
   "display_name": "Python 3 (ipykernel)",
   "language": "python",
   "name": "python3"
  },
  "language_info": {
   "codemirror_mode": {
    "name": "ipython",
    "version": 3
   },
   "file_extension": ".py",
   "mimetype": "text/x-python",
   "name": "python",
   "nbconvert_exporter": "python",
   "pygments_lexer": "ipython3",
   "version": "3.11.2"
  }
 },
 "nbformat": 4,
 "nbformat_minor": 5
}
