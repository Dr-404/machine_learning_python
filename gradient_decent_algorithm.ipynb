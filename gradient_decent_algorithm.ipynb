{
  "cells": [
    {
      "cell_type": "markdown",
      "metadata": {
        "id": "view-in-github",
        "colab_type": "text"
      },
      "source": [
        "<a href=\"https://colab.research.google.com/github/Dr-404/machine_learning_python/blob/main/gradient_decent_algorithm.ipynb\" target=\"_parent\"><img src=\"https://colab.research.google.com/assets/colab-badge.svg\" alt=\"Open In Colab\"/></a>"
      ]
    },
    {
      "cell_type": "markdown",
      "id": "b15d3d5d",
      "metadata": {
        "id": "b15d3d5d"
      },
      "source": [
        "# Importing Library"
      ]
    },
    {
      "cell_type": "code",
      "execution_count": null,
      "id": "3c9bf891",
      "metadata": {
        "id": "3c9bf891"
      },
      "outputs": [],
      "source": [
        "import numpy as np\n",
        "import matplotlib.pyplot as plt"
      ]
    },
    {
      "cell_type": "markdown",
      "id": "ffa6d03a",
      "metadata": {
        "id": "ffa6d03a"
      },
      "source": [
        "# Define Function"
      ]
    },
    {
      "cell_type": "markdown",
      "id": "48d9cc86",
      "metadata": {
        "id": "48d9cc86"
      },
      "source": [
        "# Problem\n",
        "\n",
        "x+y = 2400\n",
        "y = (2400-x)"
      ]
    },
    {
      "cell_type": "code",
      "execution_count": null,
      "id": "0cf4c614",
      "metadata": {
        "id": "0cf4c614"
      },
      "outputs": [],
      "source": [
        "def f(x):\n",
        "    y = x**2\n",
        "    #y = (2400*x)-(2*pow(x,2))\n",
        "    return y"
      ]
    },
    {
      "cell_type": "markdown",
      "id": "c6ed47e6",
      "metadata": {
        "id": "c6ed47e6"
      },
      "source": [
        "# Derivative fo function"
      ]
    },
    {
      "cell_type": "code",
      "execution_count": null,
      "id": "d5524ea9",
      "metadata": {
        "id": "d5524ea9"
      },
      "outputs": [],
      "source": [
        "def df(x):\n",
        "    y_prime = 2*x \n",
        "    #y_prime = 2400-4*x\n",
        "    return y_prime"
      ]
    },
    {
      "cell_type": "markdown",
      "id": "beb38c1e",
      "metadata": {
        "id": "beb38c1e"
      },
      "source": [
        "# Gradient Decent Algorithm"
      ]
    },
    {
      "cell_type": "code",
      "execution_count": null,
      "id": "6fc8e90b",
      "metadata": {
        "colab": {
          "base_uri": "https://localhost:8080/",
          "height": 312
        },
        "id": "6fc8e90b",
        "outputId": "6a7e46b5-1d73-4948-c2d6-c299bd1a5344"
      },
      "outputs": [
        {
          "output_type": "stream",
          "name": "stdout",
          "text": [
            "0.4294967296000001\n"
          ]
        },
        {
          "output_type": "display_data",
          "data": {
            "text/plain": [
              "<Figure size 432x288 with 1 Axes>"
            ],
            "image/png": "[encoded data removed]"
          },
          "metadata": {
            "needs_background": "light"
          }
        }
      ],
      "source": [
        "def gradient_descent(f, df, start_point , step_size, eps, max_iter):\n",
        "    x = [start_point]\n",
        "    y = [f(start_point)]\n",
        "    iter = 0\n",
        "    \n",
        "    while (iter < max_iter):\n",
        "        # Calculate the gradient and update x\n",
        "        grad = df(x[-1])\n",
        "        x_new = x[-1] - step_size*grad\n",
        "        \n",
        "        # Check convergence criterion\n",
        "        if abs(f(x_new) - f(x[-1])) < eps:\n",
        "            break\n",
        "        \n",
        "        # Update x and y\n",
        "        x.append(x_new)\n",
        "        y.append(f(x_new))\n",
        "        \n",
        "        # Increment iteration counter\n",
        "        iter += 1\n",
        "    \n",
        "    return x, y\n",
        "\n",
        "# Set the parameters\n",
        "start_point = 4\n",
        "step_size = 0.1\n",
        "eps = 0\n",
        "max_iter = 10\n",
        "\n",
        "# Call the gradient descent function with specified parameters\n",
        "x, y = gradient_descent(f, df, start_point , step_size, eps, max_iter)\n",
        "\n",
        "# Plot the function and the gradient descent path\n",
        "t = np.arange(-6, 6, 0.1)\n",
        "plt.plot(t, f(t), 'b', label='f(x)')\n",
        "plt.plot(x, y, 'ro-', label='gradient descent')\n",
        "plt.xlabel('x')\n",
        "\n",
        "plt.ylabel('y')\n",
        "plt.title('Gradient Descent')\n",
        "plt.legend()\n",
        "print(x[-1])\n",
        "    \n",
        "    "
      ]
    },
    {
      "cell_type": "code",
      "execution_count": null,
      "id": "9cdce693",
      "metadata": {
        "colab": {
          "base_uri": "https://localhost:8080/"
        },
        "id": "9cdce693",
        "outputId": "fa6aac35-48d6-4621-e933-e5ff1d62718f"
      },
      "outputs": [
        {
          "output_type": "stream",
          "name": "stdout",
          "text": [
            "200\n"
          ]
        }
      ],
      "source": [
        "print(df(100))"
      ]
    },
    {
      "cell_type": "code",
      "execution_count": null,
      "id": "f2c0889f",
      "metadata": {
        "id": "f2c0889f"
      },
      "outputs": [],
      "source": []
    },
    {
      "cell_type": "code",
      "execution_count": null,
      "id": "f1488450",
      "metadata": {
        "id": "f1488450"
      },
      "outputs": [],
      "source": []
    },
    {
      "cell_type": "code",
      "execution_count": null,
      "id": "6761d5c7",
      "metadata": {
        "id": "6761d5c7"
      },
      "outputs": [],
      "source": []
    }
  ],
  "metadata": {
    "kernelspec": {
      "display_name": "Python 3 (ipykernel)",
      "language": "python",
      "name": "python3"
    },
    "language_info": {
      "codemirror_mode": {
        "name": "ipython",
        "version": 3
      },
      "file_extension": ".py",
      "mimetype": "text/x-python",
      "name": "python",
      "nbconvert_exporter": "python",
      "pygments_lexer": "ipython3",
      "version": "3.11.2"
    },
    "colab": {
      "provenance": [],
      "include_colab_link": true
    }
  },
  "nbformat": 4,
  "nbformat_minor": 5
}